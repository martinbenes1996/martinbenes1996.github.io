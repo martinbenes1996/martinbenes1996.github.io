{
 "metadata": {
  "language_info": {
   "codemirror_mode": {
    "name": "ipython",
    "version": 3
   },
   "file_extension": ".py",
   "mimetype": "text/x-python",
   "name": "python",
   "nbconvert_exporter": "python",
   "pygments_lexer": "ipython3",
   "version": "3.7.9"
  },
  "orig_nbformat": 2,
  "kernelspec": {
   "name": "python379jvsc74a57bd0f6dcbf80103ecfe9356de4e964afd4bfbef538031f9995d40f1e6bc279f7bfcb",
   "display_name": "Python 3.7.9 64-bit"
  },
  "metadata": {
   "interpreter": {
    "hash": "f6dcbf80103ecfe9356de4e964afd4bfbef538031f9995d40f1e6bc279f7bfcb"
   }
  }
 },
 "nbformat": 4,
 "nbformat_minor": 2,
 "cells": [
  {
   "source": [
    "---\n",
    "layout:     post\n",
    "title:      Birthday paradox\n",
    "subtitle:   Are here any people with the same birthday?\n",
    "date:       2021-06-07\n",
    "author:     Martin Beneš\n",
    "header-img: bday_paradox_data/bday.jpg\n",
    "catalog:    true\n",
    "katex:      true\n",
    "tags:\n",
    "    - probability\n",
    "    - mathematics\n",
    "    - combinatorics\n",
    "    - logic\n",
    "---"
   ],
   "cell_type": "markdown",
   "metadata": {}
  },
  {
   "source": [
    "There is 23 people in the group. What if I tell you that the probability that (at least) two of them have birthday at the same day is more than 0.5? You don't believe? Ok, let's sort it out!"
   ],
   "cell_type": "markdown",
   "metadata": {}
  },
  {
   "source": [
    "## Number of combinations"
   ],
   "cell_type": "markdown",
   "metadata": {}
  },
  {
   "source": [
    "When comparing peoples' birthdays, we care about number of all possible combinations of 2, order does not matter to us. This is denoted as\n",
    "\n",
    "$${N\\choose 2} = \\frac{N(N-1)}{2}$$"
   ],
   "cell_type": "markdown",
   "metadata": {}
  },
  {
   "source": [
    "For 23 people it means 253 possible couplings. This group will do 253 one-to-one glass clinks during a toast."
   ],
   "cell_type": "markdown",
   "metadata": {}
  },
  {
   "source": [
    "## For 2 people"
   ],
   "cell_type": "markdown",
   "metadata": {}
  },
  {
   "source": [
    "Let's move to the probability. The probability of two people having birthday on different days is\n",
    "\n",
    "$$\\frac{364}{365} \\approx 0.9973$$\n",
    "\n",
    "Each person has a known birthday date and leap years are not assumed. The complement for this is the probability of two people having birthday on the same day.\n",
    "\n",
    "$$\\frac{1}{365} \\approx 0.0027$$"
   ],
   "cell_type": "markdown",
   "metadata": {}
  },
  {
   "source": [
    "## For 3 people"
   ],
   "cell_type": "markdown",
   "metadata": {}
  },
  {
   "source": [
    "The result in the [previous section](#For-2-people) can be applied to a group of three people. For such group, we can create 3 different pairs to compare (see [Number of combinations](#Number-of-combinations)).\n",
    "\n",
    "$${3\\choose 2} = 3$$"
   ],
   "cell_type": "markdown",
   "metadata": {}
  },
  {
   "source": [
    "We want all three people (A, B, C) to have their birthdays (bA, bB, bC) in different days. We query each pair of people in the group and all must be different.\n",
    "\n",
    "$$(bA \\neq bB)~\\text{and}~(bA \\neq bC)~\\text{and}~(bC \\neq bB)$$\n",
    "\n",
    "We assume no dependence between the people (e.g. twins present); then probabilities simply multiply\n",
    "\n",
    "$$P(bA\\neq bB)~P(bA\\neq bC)~P(bB\\neq bC)$$"
   ],
   "cell_type": "markdown",
   "metadata": {}
  },
  {
   "source": [
    "Each term is equivalent to the situation of group of two people from the [previous section](#For-2-people). We can replace the event for each specific couple by a general birthday match and write in an exponent.\n",
    "\n",
    "$$\\Big[P(\\text{B-days of 2 people on different days})\\Big]^3$$\n",
    "\n",
    "Under our previous assumptions this is\n",
    "\n",
    "$$\\Big[\\frac{364}{365}\\Big]^3$$\n",
    "\n",
    "Probability of all people in a group of 3 having birthday on different days is 0.9918."
   ],
   "cell_type": "markdown",
   "metadata": {}
  },
  {
   "source": [
    "## For 4 people"
   ],
   "cell_type": "markdown",
   "metadata": {}
  },
  {
   "source": [
    "Before generalization onto n people, let's extend the example for 4 people. In a group of 4 (A, B, C, D) we can create 6 pairs (A-B, A-C, A-D, B-C, B-D, C-D).\n",
    "\n",
    "$$\\Big[\\frac{364}{365}\\Big]^6$$\n",
    "\n",
    "The probability of all 4 people having a birthday on different days is 0.9837."
   ],
   "cell_type": "markdown",
   "metadata": {}
  },
  {
   "source": [
    "## For N people"
   ],
   "cell_type": "markdown",
   "metadata": {}
  },
  {
   "source": [
    "Let's transform our previous computation for a general group of N people. In the last expression, we replace the exponent with number of combinations for N\n",
    "\n",
    "$$P(\\text{N peoples' birthdays in different days}) = \\Big[\\frac{364}{365}\\Big]^{N\\choose 2}$$"
   ],
   "cell_type": "markdown",
   "metadata": {}
  },
  {
   "source": [
    "The complementary probability can be implemented using this formula."
   ],
   "cell_type": "markdown",
   "metadata": {}
  },
  {
   "cell_type": "code",
   "execution_count": 1,
   "metadata": {},
   "outputs": [],
   "source": [
    "# probability distribution for Birthday paradox\n",
    "\n",
    "bday_paradox = lambda n: 1 - (364/365)**(n*(n-1)/2)"
   ]
  },
  {
   "source": [
    "For different N between 1 and 80 we receive unintuitive results for the probabilities."
   ],
   "cell_type": "markdown",
   "metadata": {}
  },
  {
   "cell_type": "code",
   "execution_count": 2,
   "metadata": {},
   "outputs": [],
   "source": [
    "# N in {1,...,80}\n",
    "\n",
    "import numpy as np\n",
    "N = np.linspace(1,80,80) \n",
    "Pn = bday_paradox(N)"
   ]
  },
  {
   "source": [
    "# plot\n",
    "\n",
    "import matplotlib.pyplot as plt\n",
    "fig,ax = plt.subplots(figsize=(10,6))\n",
    "ax.scatter(N, Pn, s=2)\n",
    "ax.axhline(1, alpha=.1);\n",
    "ax.axhline(0, alpha=.1);"
   ],
   "cell_type": "code",
   "metadata": {},
   "execution_count": 3,
   "outputs": [
    {
     "output_type": "display_data",
     "data": {
      "text/plain": "<Figure size 720x432 with 1 Axes>",
      "image/svg+xml": "<?xml version=\"1.0\" encoding=\"utf-8\" standalone=\"no\"?>\r\n<!DOCTYPE svg PUBLIC \"-//W3C//DTD SVG 1.1//EN\"\r\n  \"http://www.w3.org/Graphics/SVG/1.1/DTD/svg11.dtd\">\r\n<!-- Created with matplotlib (https://matplotlib.org/) -->\r\n<svg height=\"357.238125pt\" version=\"1.1\" viewBox=\"0 0 595.303125 357.238125\" width=\"595.303125pt\" xmlns=\"http://www.w3.org/2000/svg\" xmlns:xlink=\"http://www.w3.org/1999/xlink\">\r\n <metadata>\r\n  <rdf:RDF xmlns:cc=\"http://creativecommons.org/ns#\" xmlns:dc=\"http://purl.org/dc/elements/1.1/\" xmlns:rdf=\"http://www.w3.org/1999/02/22-rdf-syntax-ns#\">\r\n   <cc:Work>\r\n    <dc:type rdf:resource=\"http://purl.org/dc/dcmitype/StillImage\"/>\r\n    <dc:date>2021-06-07T12:27:49.197732</dc:date>\r\n    <dc:format>image/svg+xml</dc:format>\r\n    <dc:creator>\r\n     <cc:Agent>\r\n      <dc:title>Matplotlib v3.3.2, https://matplotlib.org/</dc:title>\r\n     </cc:Agent>\r\n    </dc:creator>\r\n   </cc:Work>\r\n  </rdf:RDF>\r\n </metadata>\r\n <defs>\r\n  <style type=\"text/css\">*{stroke-linecap:butt;stroke-linejoin:round;}</style>\r\n </defs>\r\n <g id=\"figure_1\">\r\n  <g id=\"patch_1\">\r\n   <path d=\"M -0 357.238125 \r\nL 595.303125 357.238125 \r\nL 595.303125 0 \r\nL -0 0 \r\nz\r\n\" style=\"fill:none;\"/>\r\n  </g>\r\n  <g id=\"axes_1\">\r\n   <g id=\"patch_2\">\r\n    <path d=\"M 30.103125 333.36 \r\nL 588.103125 333.36 \r\nL 588.103125 7.2 \r\nL 30.103125 7.2 \r\nz\r\n\" style=\"fill:#ffffff;\"/>\r\n   </g>\r\n   <g id=\"PathCollection_1\">\r\n    <defs>\r\n     <path d=\"M 0 0.707107 \r\nC 0.187527 0.707107 0.367398 0.632602 0.5 0.5 \r\nC 0.632602 0.367398 0.707107 0.187527 0.707107 0 \r\nC 0.707107 -0.187527 0.632602 -0.367398 0.5 -0.5 \r\nC 0.367398 -0.632602 0.187527 -0.707107 0 -0.707107 \r\nC -0.187527 -0.707107 -0.367398 -0.632602 -0.5 -0.5 \r\nC -0.632602 -0.367398 -0.707107 -0.187527 -0.707107 0 \r\nC -0.707107 0.187527 -0.632602 0.367398 -0.5 0.5 \r\nC -0.367398 0.632602 -0.187527 0.707107 0 0.707107 \r\nz\r\n\" id=\"m1ee842db56\" style=\"stroke:#1f77b4;\"/>\r\n    </defs>\r\n    <g clip-path=\"url(#pc054851e1e)\">\r\n     <use style=\"fill:#1f77b4;stroke:#1f77b4;\" x=\"55.466761\" xlink:href=\"#m1ee842db56\" y=\"318.534545\"/>\r\n     <use style=\"fill:#1f77b4;stroke:#1f77b4;\" x=\"61.887935\" xlink:href=\"#m1ee842db56\" y=\"317.722052\"/>\r\n     <use style=\"fill:#1f77b4;stroke:#1f77b4;\" x=\"68.309109\" xlink:href=\"#m1ee842db56\" y=\"316.103738\"/>\r\n     <use style=\"fill:#1f77b4;stroke:#1f77b4;\" x=\"74.730283\" xlink:href=\"#m1ee842db56\" y=\"313.692855\"/>\r\n     <use style=\"fill:#1f77b4;stroke:#1f77b4;\" x=\"81.151456\" xlink:href=\"#m1ee842db56\" y=\"310.509055\"/>\r\n     <use style=\"fill:#1f77b4;stroke:#1f77b4;\" x=\"87.57263\" xlink:href=\"#m1ee842db56\" y=\"306.578126\"/>\r\n     <use style=\"fill:#1f77b4;stroke:#1f77b4;\" x=\"93.993804\" xlink:href=\"#m1ee842db56\" y=\"301.931637\"/>\r\n     <use style=\"fill:#1f77b4;stroke:#1f77b4;\" x=\"100.414978\" xlink:href=\"#m1ee842db56\" y=\"296.606525\"/>\r\n     <use style=\"fill:#1f77b4;stroke:#1f77b4;\" x=\"106.836151\" xlink:href=\"#m1ee842db56\" y=\"290.644598\"/>\r\n     <use style=\"fill:#1f77b4;stroke:#1f77b4;\" x=\"113.257325\" xlink:href=\"#m1ee842db56\" y=\"284.091994\"/>\r\n     <use style=\"fill:#1f77b4;stroke:#1f77b4;\" x=\"119.678499\" xlink:href=\"#m1ee842db56\" y=\"276.998586\"/>\r\n     <use style=\"fill:#1f77b4;stroke:#1f77b4;\" x=\"126.099673\" xlink:href=\"#m1ee842db56\" y=\"269.417351\"/>\r\n     <use style=\"fill:#1f77b4;stroke:#1f77b4;\" x=\"132.520847\" xlink:href=\"#m1ee842db56\" y=\"261.403716\"/>\r\n     <use style=\"fill:#1f77b4;stroke:#1f77b4;\" x=\"138.94202\" xlink:href=\"#m1ee842db56\" y=\"253.014882\"/>\r\n     <use style=\"fill:#1f77b4;stroke:#1f77b4;\" x=\"145.363194\" xlink:href=\"#m1ee842db56\" y=\"244.309156\"/>\r\n     <use style=\"fill:#1f77b4;stroke:#1f77b4;\" x=\"151.784368\" xlink:href=\"#m1ee842db56\" y=\"235.345284\"/>\r\n     <use style=\"fill:#1f77b4;stroke:#1f77b4;\" x=\"158.205542\" xlink:href=\"#m1ee842db56\" y=\"226.181799\"/>\r\n     <use style=\"fill:#1f77b4;stroke:#1f77b4;\" x=\"164.626715\" xlink:href=\"#m1ee842db56\" y=\"216.876407\"/>\r\n     <use style=\"fill:#1f77b4;stroke:#1f77b4;\" x=\"171.047889\" xlink:href=\"#m1ee842db56\" y=\"207.485402\"/>\r\n     <use style=\"fill:#1f77b4;stroke:#1f77b4;\" x=\"177.469063\" xlink:href=\"#m1ee842db56\" y=\"198.063126\"/>\r\n     <use style=\"fill:#1f77b4;stroke:#1f77b4;\" x=\"183.890237\" xlink:href=\"#m1ee842db56\" y=\"188.661485\"/>\r\n     <use style=\"fill:#1f77b4;stroke:#1f77b4;\" x=\"190.31141\" xlink:href=\"#m1ee842db56\" y=\"179.329518\"/>\r\n     <use style=\"fill:#1f77b4;stroke:#1f77b4;\" x=\"196.732584\" xlink:href=\"#m1ee842db56\" y=\"170.113027\"/>\r\n     <use style=\"fill:#1f77b4;stroke:#1f77b4;\" x=\"203.153758\" xlink:href=\"#m1ee842db56\" y=\"161.054271\"/>\r\n     <use style=\"fill:#1f77b4;stroke:#1f77b4;\" x=\"209.574932\" xlink:href=\"#m1ee842db56\" y=\"152.191723\"/>\r\n     <use style=\"fill:#1f77b4;stroke:#1f77b4;\" x=\"215.996105\" xlink:href=\"#m1ee842db56\" y=\"143.559896\"/>\r\n     <use style=\"fill:#1f77b4;stroke:#1f77b4;\" x=\"222.417279\" xlink:href=\"#m1ee842db56\" y=\"135.189225\"/>\r\n     <use style=\"fill:#1f77b4;stroke:#1f77b4;\" x=\"228.838453\" xlink:href=\"#m1ee842db56\" y=\"127.106019\"/>\r\n     <use style=\"fill:#1f77b4;stroke:#1f77b4;\" x=\"235.259627\" xlink:href=\"#m1ee842db56\" y=\"119.332464\"/>\r\n     <use style=\"fill:#1f77b4;stroke:#1f77b4;\" x=\"241.6808\" xlink:href=\"#m1ee842db56\" y=\"111.886684\"/>\r\n     <use style=\"fill:#1f77b4;stroke:#1f77b4;\" x=\"248.101974\" xlink:href=\"#m1ee842db56\" y=\"104.78285\"/>\r\n     <use style=\"fill:#1f77b4;stroke:#1f77b4;\" x=\"254.523148\" xlink:href=\"#m1ee842db56\" y=\"98.031332\"/>\r\n     <use style=\"fill:#1f77b4;stroke:#1f77b4;\" x=\"260.944322\" xlink:href=\"#m1ee842db56\" y=\"91.638893\"/>\r\n     <use style=\"fill:#1f77b4;stroke:#1f77b4;\" x=\"267.365496\" xlink:href=\"#m1ee842db56\" y=\"85.608907\"/>\r\n     <use style=\"fill:#1f77b4;stroke:#1f77b4;\" x=\"273.786669\" xlink:href=\"#m1ee842db56\" y=\"79.941612\"/>\r\n     <use style=\"fill:#1f77b4;stroke:#1f77b4;\" x=\"280.207843\" xlink:href=\"#m1ee842db56\" y=\"74.634378\"/>\r\n     <use style=\"fill:#1f77b4;stroke:#1f77b4;\" x=\"286.629017\" xlink:href=\"#m1ee842db56\" y=\"69.681989\"/>\r\n     <use style=\"fill:#1f77b4;stroke:#1f77b4;\" x=\"293.050191\" xlink:href=\"#m1ee842db56\" y=\"65.076933\"/>\r\n     <use style=\"fill:#1f77b4;stroke:#1f77b4;\" x=\"299.471364\" xlink:href=\"#m1ee842db56\" y=\"60.809699\"/>\r\n     <use style=\"fill:#1f77b4;stroke:#1f77b4;\" x=\"305.892538\" xlink:href=\"#m1ee842db56\" y=\"56.869066\"/>\r\n     <use style=\"fill:#1f77b4;stroke:#1f77b4;\" x=\"312.313712\" xlink:href=\"#m1ee842db56\" y=\"53.242391\"/>\r\n     <use style=\"fill:#1f77b4;stroke:#1f77b4;\" x=\"318.734886\" xlink:href=\"#m1ee842db56\" y=\"49.915884\"/>\r\n     <use style=\"fill:#1f77b4;stroke:#1f77b4;\" x=\"325.156059\" xlink:href=\"#m1ee842db56\" y=\"46.874867\"/>\r\n     <use style=\"fill:#1f77b4;stroke:#1f77b4;\" x=\"331.577233\" xlink:href=\"#m1ee842db56\" y=\"44.104026\"/>\r\n     <use style=\"fill:#1f77b4;stroke:#1f77b4;\" x=\"337.998407\" xlink:href=\"#m1ee842db56\" y=\"41.587634\"/>\r\n     <use style=\"fill:#1f77b4;stroke:#1f77b4;\" x=\"344.419581\" xlink:href=\"#m1ee842db56\" y=\"39.309762\"/>\r\n     <use style=\"fill:#1f77b4;stroke:#1f77b4;\" x=\"350.840754\" xlink:href=\"#m1ee842db56\" y=\"37.254465\"/>\r\n     <use style=\"fill:#1f77b4;stroke:#1f77b4;\" x=\"357.261928\" xlink:href=\"#m1ee842db56\" y=\"35.405948\"/>\r\n     <use style=\"fill:#1f77b4;stroke:#1f77b4;\" x=\"363.683102\" xlink:href=\"#m1ee842db56\" y=\"33.748711\"/>\r\n     <use style=\"fill:#1f77b4;stroke:#1f77b4;\" x=\"370.104276\" xlink:href=\"#m1ee842db56\" y=\"32.267675\"/>\r\n     <use style=\"fill:#1f77b4;stroke:#1f77b4;\" x=\"376.52545\" xlink:href=\"#m1ee842db56\" y=\"30.94828\"/>\r\n     <use style=\"fill:#1f77b4;stroke:#1f77b4;\" x=\"382.946623\" xlink:href=\"#m1ee842db56\" y=\"29.776574\"/>\r\n     <use style=\"fill:#1f77b4;stroke:#1f77b4;\" x=\"389.367797\" xlink:href=\"#m1ee842db56\" y=\"28.739272\"/>\r\n     <use style=\"fill:#1f77b4;stroke:#1f77b4;\" x=\"395.788971\" xlink:href=\"#m1ee842db56\" y=\"27.823813\"/>\r\n     <use style=\"fill:#1f77b4;stroke:#1f77b4;\" x=\"402.210145\" xlink:href=\"#m1ee842db56\" y=\"27.018384\"/>\r\n     <use style=\"fill:#1f77b4;stroke:#1f77b4;\" x=\"408.631318\" xlink:href=\"#m1ee842db56\" y=\"26.311944\"/>\r\n     <use style=\"fill:#1f77b4;stroke:#1f77b4;\" x=\"415.052492\" xlink:href=\"#m1ee842db56\" y=\"25.694229\"/>\r\n     <use style=\"fill:#1f77b4;stroke:#1f77b4;\" x=\"421.473666\" xlink:href=\"#m1ee842db56\" y=\"25.155746\"/>\r\n     <use style=\"fill:#1f77b4;stroke:#1f77b4;\" x=\"427.89484\" xlink:href=\"#m1ee842db56\" y=\"24.687762\"/>\r\n     <use style=\"fill:#1f77b4;stroke:#1f77b4;\" x=\"434.316013\" xlink:href=\"#m1ee842db56\" y=\"24.282283\"/>\r\n     <use style=\"fill:#1f77b4;stroke:#1f77b4;\" x=\"440.737187\" xlink:href=\"#m1ee842db56\" y=\"23.932022\"/>\r\n     <use style=\"fill:#1f77b4;stroke:#1f77b4;\" x=\"447.158361\" xlink:href=\"#m1ee842db56\" y=\"23.630373\"/>\r\n     <use style=\"fill:#1f77b4;stroke:#1f77b4;\" x=\"453.579535\" xlink:href=\"#m1ee842db56\" y=\"23.37137\"/>\r\n     <use style=\"fill:#1f77b4;stroke:#1f77b4;\" x=\"460.000708\" xlink:href=\"#m1ee842db56\" y=\"23.149651\"/>\r\n     <use style=\"fill:#1f77b4;stroke:#1f77b4;\" x=\"466.421882\" xlink:href=\"#m1ee842db56\" y=\"22.960417\"/>\r\n     <use style=\"fill:#1f77b4;stroke:#1f77b4;\" x=\"472.843056\" xlink:href=\"#m1ee842db56\" y=\"22.799389\"/>\r\n     <use style=\"fill:#1f77b4;stroke:#1f77b4;\" x=\"479.26423\" xlink:href=\"#m1ee842db56\" y=\"22.662771\"/>\r\n     <use style=\"fill:#1f77b4;stroke:#1f77b4;\" x=\"485.685403\" xlink:href=\"#m1ee842db56\" y=\"22.547207\"/>\r\n     <use style=\"fill:#1f77b4;stroke:#1f77b4;\" x=\"492.106577\" xlink:href=\"#m1ee842db56\" y=\"22.449742\"/>\r\n     <use style=\"fill:#1f77b4;stroke:#1f77b4;\" x=\"498.527751\" xlink:href=\"#m1ee842db56\" y=\"22.367784\"/>\r\n     <use style=\"fill:#1f77b4;stroke:#1f77b4;\" x=\"504.948925\" xlink:href=\"#m1ee842db56\" y=\"22.299068\"/>\r\n     <use style=\"fill:#1f77b4;stroke:#1f77b4;\" x=\"511.370099\" xlink:href=\"#m1ee842db56\" y=\"22.241626\"/>\r\n     <use style=\"fill:#1f77b4;stroke:#1f77b4;\" x=\"517.791272\" xlink:href=\"#m1ee842db56\" y=\"22.193748\"/>\r\n     <use style=\"fill:#1f77b4;stroke:#1f77b4;\" x=\"524.212446\" xlink:href=\"#m1ee842db56\" y=\"22.153959\"/>\r\n     <use style=\"fill:#1f77b4;stroke:#1f77b4;\" x=\"530.63362\" xlink:href=\"#m1ee842db56\" y=\"22.120989\"/>\r\n     <use style=\"fill:#1f77b4;stroke:#1f77b4;\" x=\"537.054794\" xlink:href=\"#m1ee842db56\" y=\"22.093749\"/>\r\n     <use style=\"fill:#1f77b4;stroke:#1f77b4;\" x=\"543.475967\" xlink:href=\"#m1ee842db56\" y=\"22.07131\"/>\r\n     <use style=\"fill:#1f77b4;stroke:#1f77b4;\" x=\"549.897141\" xlink:href=\"#m1ee842db56\" y=\"22.052878\"/>\r\n     <use style=\"fill:#1f77b4;stroke:#1f77b4;\" x=\"556.318315\" xlink:href=\"#m1ee842db56\" y=\"22.037782\"/>\r\n     <use style=\"fill:#1f77b4;stroke:#1f77b4;\" x=\"562.739489\" xlink:href=\"#m1ee842db56\" y=\"22.025455\"/>\r\n    </g>\r\n   </g>\r\n   <g id=\"matplotlib.axis_1\">\r\n    <g id=\"xtick_1\">\r\n     <g id=\"line2d_1\">\r\n      <defs>\r\n       <path d=\"M 0 0 \r\nL 0 3.5 \r\n\" id=\"m64903545e3\" style=\"stroke:#000000;stroke-width:0.8;\"/>\r\n      </defs>\r\n      <g>\r\n       <use style=\"stroke:#000000;stroke-width:0.8;\" x=\"49.045588\" xlink:href=\"#m64903545e3\" y=\"333.36\"/>\r\n      </g>\r\n     </g>\r\n     <g id=\"text_1\">\r\n      <!-- 0 -->\r\n      <g transform=\"translate(45.864338 347.958438)scale(0.1 -0.1)\">\r\n       <defs>\r\n        <path d=\"M 31.78125 66.40625 \r\nQ 24.171875 66.40625 20.328125 58.90625 \r\nQ 16.5 51.421875 16.5 36.375 \r\nQ 16.5 21.390625 20.328125 13.890625 \r\nQ 24.171875 6.390625 31.78125 6.390625 \r\nQ 39.453125 6.390625 43.28125 13.890625 \r\nQ 47.125 21.390625 47.125 36.375 \r\nQ 47.125 51.421875 43.28125 58.90625 \r\nQ 39.453125 66.40625 31.78125 66.40625 \r\nz\r\nM 31.78125 74.21875 \r\nQ 44.046875 74.21875 50.515625 64.515625 \r\nQ 56.984375 54.828125 56.984375 36.375 \r\nQ 56.984375 17.96875 50.515625 8.265625 \r\nQ 44.046875 -1.421875 31.78125 -1.421875 \r\nQ 19.53125 -1.421875 13.0625 8.265625 \r\nQ 6.59375 17.96875 6.59375 36.375 \r\nQ 6.59375 54.828125 13.0625 64.515625 \r\nQ 19.53125 74.21875 31.78125 74.21875 \r\nz\r\n\" id=\"DejaVuSans-48\"/>\r\n       </defs>\r\n       <use xlink:href=\"#DejaVuSans-48\"/>\r\n      </g>\r\n     </g>\r\n    </g>\r\n    <g id=\"xtick_2\">\r\n     <g id=\"line2d_2\">\r\n      <g>\r\n       <use style=\"stroke:#000000;stroke-width:0.8;\" x=\"113.257325\" xlink:href=\"#m64903545e3\" y=\"333.36\"/>\r\n      </g>\r\n     </g>\r\n     <g id=\"text_2\">\r\n      <!-- 10 -->\r\n      <g transform=\"translate(106.894825 347.958438)scale(0.1 -0.1)\">\r\n       <defs>\r\n        <path d=\"M 12.40625 8.296875 \r\nL 28.515625 8.296875 \r\nL 28.515625 63.921875 \r\nL 10.984375 60.40625 \r\nL 10.984375 69.390625 \r\nL 28.421875 72.90625 \r\nL 38.28125 72.90625 \r\nL 38.28125 8.296875 \r\nL 54.390625 8.296875 \r\nL 54.390625 0 \r\nL 12.40625 0 \r\nz\r\n\" id=\"DejaVuSans-49\"/>\r\n       </defs>\r\n       <use xlink:href=\"#DejaVuSans-49\"/>\r\n       <use x=\"63.623047\" xlink:href=\"#DejaVuSans-48\"/>\r\n      </g>\r\n     </g>\r\n    </g>\r\n    <g id=\"xtick_3\">\r\n     <g id=\"line2d_3\">\r\n      <g>\r\n       <use style=\"stroke:#000000;stroke-width:0.8;\" x=\"177.469063\" xlink:href=\"#m64903545e3\" y=\"333.36\"/>\r\n      </g>\r\n     </g>\r\n     <g id=\"text_3\">\r\n      <!-- 20 -->\r\n      <g transform=\"translate(171.106563 347.958438)scale(0.1 -0.1)\">\r\n       <defs>\r\n        <path d=\"M 19.1875 8.296875 \r\nL 53.609375 8.296875 \r\nL 53.609375 0 \r\nL 7.328125 0 \r\nL 7.328125 8.296875 \r\nQ 12.9375 14.109375 22.625 23.890625 \r\nQ 32.328125 33.6875 34.8125 36.53125 \r\nQ 39.546875 41.84375 41.421875 45.53125 \r\nQ 43.3125 49.21875 43.3125 52.78125 \r\nQ 43.3125 58.59375 39.234375 62.25 \r\nQ 35.15625 65.921875 28.609375 65.921875 \r\nQ 23.96875 65.921875 18.8125 64.3125 \r\nQ 13.671875 62.703125 7.8125 59.421875 \r\nL 7.8125 69.390625 \r\nQ 13.765625 71.78125 18.9375 73 \r\nQ 24.125 74.21875 28.421875 74.21875 \r\nQ 39.75 74.21875 46.484375 68.546875 \r\nQ 53.21875 62.890625 53.21875 53.421875 \r\nQ 53.21875 48.921875 51.53125 44.890625 \r\nQ 49.859375 40.875 45.40625 35.40625 \r\nQ 44.1875 33.984375 37.640625 27.21875 \r\nQ 31.109375 20.453125 19.1875 8.296875 \r\nz\r\n\" id=\"DejaVuSans-50\"/>\r\n       </defs>\r\n       <use xlink:href=\"#DejaVuSans-50\"/>\r\n       <use x=\"63.623047\" xlink:href=\"#DejaVuSans-48\"/>\r\n      </g>\r\n     </g>\r\n    </g>\r\n    <g id=\"xtick_4\">\r\n     <g id=\"line2d_4\">\r\n      <g>\r\n       <use style=\"stroke:#000000;stroke-width:0.8;\" x=\"241.6808\" xlink:href=\"#m64903545e3\" y=\"333.36\"/>\r\n      </g>\r\n     </g>\r\n     <g id=\"text_4\">\r\n      <!-- 30 -->\r\n      <g transform=\"translate(235.3183 347.958438)scale(0.1 -0.1)\">\r\n       <defs>\r\n        <path d=\"M 40.578125 39.3125 \r\nQ 47.65625 37.796875 51.625 33 \r\nQ 55.609375 28.21875 55.609375 21.1875 \r\nQ 55.609375 10.40625 48.1875 4.484375 \r\nQ 40.765625 -1.421875 27.09375 -1.421875 \r\nQ 22.515625 -1.421875 17.65625 -0.515625 \r\nQ 12.796875 0.390625 7.625 2.203125 \r\nL 7.625 11.71875 \r\nQ 11.71875 9.328125 16.59375 8.109375 \r\nQ 21.484375 6.890625 26.8125 6.890625 \r\nQ 36.078125 6.890625 40.9375 10.546875 \r\nQ 45.796875 14.203125 45.796875 21.1875 \r\nQ 45.796875 27.640625 41.28125 31.265625 \r\nQ 36.765625 34.90625 28.71875 34.90625 \r\nL 20.21875 34.90625 \r\nL 20.21875 43.015625 \r\nL 29.109375 43.015625 \r\nQ 36.375 43.015625 40.234375 45.921875 \r\nQ 44.09375 48.828125 44.09375 54.296875 \r\nQ 44.09375 59.90625 40.109375 62.90625 \r\nQ 36.140625 65.921875 28.71875 65.921875 \r\nQ 24.65625 65.921875 20.015625 65.03125 \r\nQ 15.375 64.15625 9.8125 62.3125 \r\nL 9.8125 71.09375 \r\nQ 15.4375 72.65625 20.34375 73.4375 \r\nQ 25.25 74.21875 29.59375 74.21875 \r\nQ 40.828125 74.21875 47.359375 69.109375 \r\nQ 53.90625 64.015625 53.90625 55.328125 \r\nQ 53.90625 49.265625 50.4375 45.09375 \r\nQ 46.96875 40.921875 40.578125 39.3125 \r\nz\r\n\" id=\"DejaVuSans-51\"/>\r\n       </defs>\r\n       <use xlink:href=\"#DejaVuSans-51\"/>\r\n       <use x=\"63.623047\" xlink:href=\"#DejaVuSans-48\"/>\r\n      </g>\r\n     </g>\r\n    </g>\r\n    <g id=\"xtick_5\">\r\n     <g id=\"line2d_5\">\r\n      <g>\r\n       <use style=\"stroke:#000000;stroke-width:0.8;\" x=\"305.892538\" xlink:href=\"#m64903545e3\" y=\"333.36\"/>\r\n      </g>\r\n     </g>\r\n     <g id=\"text_5\">\r\n      <!-- 40 -->\r\n      <g transform=\"translate(299.530038 347.958438)scale(0.1 -0.1)\">\r\n       <defs>\r\n        <path d=\"M 37.796875 64.3125 \r\nL 12.890625 25.390625 \r\nL 37.796875 25.390625 \r\nz\r\nM 35.203125 72.90625 \r\nL 47.609375 72.90625 \r\nL 47.609375 25.390625 \r\nL 58.015625 25.390625 \r\nL 58.015625 17.1875 \r\nL 47.609375 17.1875 \r\nL 47.609375 0 \r\nL 37.796875 0 \r\nL 37.796875 17.1875 \r\nL 4.890625 17.1875 \r\nL 4.890625 26.703125 \r\nz\r\n\" id=\"DejaVuSans-52\"/>\r\n       </defs>\r\n       <use xlink:href=\"#DejaVuSans-52\"/>\r\n       <use x=\"63.623047\" xlink:href=\"#DejaVuSans-48\"/>\r\n      </g>\r\n     </g>\r\n    </g>\r\n    <g id=\"xtick_6\">\r\n     <g id=\"line2d_6\">\r\n      <g>\r\n       <use style=\"stroke:#000000;stroke-width:0.8;\" x=\"370.104276\" xlink:href=\"#m64903545e3\" y=\"333.36\"/>\r\n      </g>\r\n     </g>\r\n     <g id=\"text_6\">\r\n      <!-- 50 -->\r\n      <g transform=\"translate(363.741776 347.958438)scale(0.1 -0.1)\">\r\n       <defs>\r\n        <path d=\"M 10.796875 72.90625 \r\nL 49.515625 72.90625 \r\nL 49.515625 64.59375 \r\nL 19.828125 64.59375 \r\nL 19.828125 46.734375 \r\nQ 21.96875 47.46875 24.109375 47.828125 \r\nQ 26.265625 48.1875 28.421875 48.1875 \r\nQ 40.625 48.1875 47.75 41.5 \r\nQ 54.890625 34.8125 54.890625 23.390625 \r\nQ 54.890625 11.625 47.5625 5.09375 \r\nQ 40.234375 -1.421875 26.90625 -1.421875 \r\nQ 22.3125 -1.421875 17.546875 -0.640625 \r\nQ 12.796875 0.140625 7.71875 1.703125 \r\nL 7.71875 11.625 \r\nQ 12.109375 9.234375 16.796875 8.0625 \r\nQ 21.484375 6.890625 26.703125 6.890625 \r\nQ 35.15625 6.890625 40.078125 11.328125 \r\nQ 45.015625 15.765625 45.015625 23.390625 \r\nQ 45.015625 31 40.078125 35.4375 \r\nQ 35.15625 39.890625 26.703125 39.890625 \r\nQ 22.75 39.890625 18.8125 39.015625 \r\nQ 14.890625 38.140625 10.796875 36.28125 \r\nz\r\n\" id=\"DejaVuSans-53\"/>\r\n       </defs>\r\n       <use xlink:href=\"#DejaVuSans-53\"/>\r\n       <use x=\"63.623047\" xlink:href=\"#DejaVuSans-48\"/>\r\n      </g>\r\n     </g>\r\n    </g>\r\n    <g id=\"xtick_7\">\r\n     <g id=\"line2d_7\">\r\n      <g>\r\n       <use style=\"stroke:#000000;stroke-width:0.8;\" x=\"434.316013\" xlink:href=\"#m64903545e3\" y=\"333.36\"/>\r\n      </g>\r\n     </g>\r\n     <g id=\"text_7\">\r\n      <!-- 60 -->\r\n      <g transform=\"translate(427.953513 347.958438)scale(0.1 -0.1)\">\r\n       <defs>\r\n        <path d=\"M 33.015625 40.375 \r\nQ 26.375 40.375 22.484375 35.828125 \r\nQ 18.609375 31.296875 18.609375 23.390625 \r\nQ 18.609375 15.53125 22.484375 10.953125 \r\nQ 26.375 6.390625 33.015625 6.390625 \r\nQ 39.65625 6.390625 43.53125 10.953125 \r\nQ 47.40625 15.53125 47.40625 23.390625 \r\nQ 47.40625 31.296875 43.53125 35.828125 \r\nQ 39.65625 40.375 33.015625 40.375 \r\nz\r\nM 52.59375 71.296875 \r\nL 52.59375 62.3125 \r\nQ 48.875 64.0625 45.09375 64.984375 \r\nQ 41.3125 65.921875 37.59375 65.921875 \r\nQ 27.828125 65.921875 22.671875 59.328125 \r\nQ 17.53125 52.734375 16.796875 39.40625 \r\nQ 19.671875 43.65625 24.015625 45.921875 \r\nQ 28.375 48.1875 33.59375 48.1875 \r\nQ 44.578125 48.1875 50.953125 41.515625 \r\nQ 57.328125 34.859375 57.328125 23.390625 \r\nQ 57.328125 12.15625 50.6875 5.359375 \r\nQ 44.046875 -1.421875 33.015625 -1.421875 \r\nQ 20.359375 -1.421875 13.671875 8.265625 \r\nQ 6.984375 17.96875 6.984375 36.375 \r\nQ 6.984375 53.65625 15.1875 63.9375 \r\nQ 23.390625 74.21875 37.203125 74.21875 \r\nQ 40.921875 74.21875 44.703125 73.484375 \r\nQ 48.484375 72.75 52.59375 71.296875 \r\nz\r\n\" id=\"DejaVuSans-54\"/>\r\n       </defs>\r\n       <use xlink:href=\"#DejaVuSans-54\"/>\r\n       <use x=\"63.623047\" xlink:href=\"#DejaVuSans-48\"/>\r\n      </g>\r\n     </g>\r\n    </g>\r\n    <g id=\"xtick_8\">\r\n     <g id=\"line2d_8\">\r\n      <g>\r\n       <use style=\"stroke:#000000;stroke-width:0.8;\" x=\"498.527751\" xlink:href=\"#m64903545e3\" y=\"333.36\"/>\r\n      </g>\r\n     </g>\r\n     <g id=\"text_8\">\r\n      <!-- 70 -->\r\n      <g transform=\"translate(492.165251 347.958438)scale(0.1 -0.1)\">\r\n       <defs>\r\n        <path d=\"M 8.203125 72.90625 \r\nL 55.078125 72.90625 \r\nL 55.078125 68.703125 \r\nL 28.609375 0 \r\nL 18.3125 0 \r\nL 43.21875 64.59375 \r\nL 8.203125 64.59375 \r\nz\r\n\" id=\"DejaVuSans-55\"/>\r\n       </defs>\r\n       <use xlink:href=\"#DejaVuSans-55\"/>\r\n       <use x=\"63.623047\" xlink:href=\"#DejaVuSans-48\"/>\r\n      </g>\r\n     </g>\r\n    </g>\r\n    <g id=\"xtick_9\">\r\n     <g id=\"line2d_9\">\r\n      <g>\r\n       <use style=\"stroke:#000000;stroke-width:0.8;\" x=\"562.739489\" xlink:href=\"#m64903545e3\" y=\"333.36\"/>\r\n      </g>\r\n     </g>\r\n     <g id=\"text_9\">\r\n      <!-- 80 -->\r\n      <g transform=\"translate(556.376989 347.958438)scale(0.1 -0.1)\">\r\n       <defs>\r\n        <path d=\"M 31.78125 34.625 \r\nQ 24.75 34.625 20.71875 30.859375 \r\nQ 16.703125 27.09375 16.703125 20.515625 \r\nQ 16.703125 13.921875 20.71875 10.15625 \r\nQ 24.75 6.390625 31.78125 6.390625 \r\nQ 38.8125 6.390625 42.859375 10.171875 \r\nQ 46.921875 13.96875 46.921875 20.515625 \r\nQ 46.921875 27.09375 42.890625 30.859375 \r\nQ 38.875 34.625 31.78125 34.625 \r\nz\r\nM 21.921875 38.8125 \r\nQ 15.578125 40.375 12.03125 44.71875 \r\nQ 8.5 49.078125 8.5 55.328125 \r\nQ 8.5 64.0625 14.71875 69.140625 \r\nQ 20.953125 74.21875 31.78125 74.21875 \r\nQ 42.671875 74.21875 48.875 69.140625 \r\nQ 55.078125 64.0625 55.078125 55.328125 \r\nQ 55.078125 49.078125 51.53125 44.71875 \r\nQ 48 40.375 41.703125 38.8125 \r\nQ 48.828125 37.15625 52.796875 32.3125 \r\nQ 56.78125 27.484375 56.78125 20.515625 \r\nQ 56.78125 9.90625 50.3125 4.234375 \r\nQ 43.84375 -1.421875 31.78125 -1.421875 \r\nQ 19.734375 -1.421875 13.25 4.234375 \r\nQ 6.78125 9.90625 6.78125 20.515625 \r\nQ 6.78125 27.484375 10.78125 32.3125 \r\nQ 14.796875 37.15625 21.921875 38.8125 \r\nz\r\nM 18.3125 54.390625 \r\nQ 18.3125 48.734375 21.84375 45.5625 \r\nQ 25.390625 42.390625 31.78125 42.390625 \r\nQ 38.140625 42.390625 41.71875 45.5625 \r\nQ 45.3125 48.734375 45.3125 54.390625 \r\nQ 45.3125 60.0625 41.71875 63.234375 \r\nQ 38.140625 66.40625 31.78125 66.40625 \r\nQ 25.390625 66.40625 21.84375 63.234375 \r\nQ 18.3125 60.0625 18.3125 54.390625 \r\nz\r\n\" id=\"DejaVuSans-56\"/>\r\n       </defs>\r\n       <use xlink:href=\"#DejaVuSans-56\"/>\r\n       <use x=\"63.623047\" xlink:href=\"#DejaVuSans-48\"/>\r\n      </g>\r\n     </g>\r\n    </g>\r\n   </g>\r\n   <g id=\"matplotlib.axis_2\">\r\n    <g id=\"ytick_1\">\r\n     <g id=\"line2d_10\">\r\n      <defs>\r\n       <path d=\"M 0 0 \r\nL -3.5 0 \r\n\" id=\"m0a95947383\" style=\"stroke:#000000;stroke-width:0.8;\"/>\r\n      </defs>\r\n      <g>\r\n       <use style=\"stroke:#000000;stroke-width:0.8;\" x=\"30.103125\" xlink:href=\"#m0a95947383\" y=\"318.534545\"/>\r\n      </g>\r\n     </g>\r\n     <g id=\"text_10\">\r\n      <!-- 0.0 -->\r\n      <g transform=\"translate(7.2 322.333764)scale(0.1 -0.1)\">\r\n       <defs>\r\n        <path d=\"M 10.6875 12.40625 \r\nL 21 12.40625 \r\nL 21 0 \r\nL 10.6875 0 \r\nz\r\n\" id=\"DejaVuSans-46\"/>\r\n       </defs>\r\n       <use xlink:href=\"#DejaVuSans-48\"/>\r\n       <use x=\"63.623047\" xlink:href=\"#DejaVuSans-46\"/>\r\n       <use x=\"95.410156\" xlink:href=\"#DejaVuSans-48\"/>\r\n      </g>\r\n     </g>\r\n    </g>\r\n    <g id=\"ytick_2\">\r\n     <g id=\"line2d_11\">\r\n      <g>\r\n       <use style=\"stroke:#000000;stroke-width:0.8;\" x=\"30.103125\" xlink:href=\"#m0a95947383\" y=\"259.22254\"/>\r\n      </g>\r\n     </g>\r\n     <g id=\"text_11\">\r\n      <!-- 0.2 -->\r\n      <g transform=\"translate(7.2 263.021759)scale(0.1 -0.1)\">\r\n       <use xlink:href=\"#DejaVuSans-48\"/>\r\n       <use x=\"63.623047\" xlink:href=\"#DejaVuSans-46\"/>\r\n       <use x=\"95.410156\" xlink:href=\"#DejaVuSans-50\"/>\r\n      </g>\r\n     </g>\r\n    </g>\r\n    <g id=\"ytick_3\">\r\n     <g id=\"line2d_12\">\r\n      <g>\r\n       <use style=\"stroke:#000000;stroke-width:0.8;\" x=\"30.103125\" xlink:href=\"#m0a95947383\" y=\"199.910534\"/>\r\n      </g>\r\n     </g>\r\n     <g id=\"text_12\">\r\n      <!-- 0.4 -->\r\n      <g transform=\"translate(7.2 203.709753)scale(0.1 -0.1)\">\r\n       <use xlink:href=\"#DejaVuSans-48\"/>\r\n       <use x=\"63.623047\" xlink:href=\"#DejaVuSans-46\"/>\r\n       <use x=\"95.410156\" xlink:href=\"#DejaVuSans-52\"/>\r\n      </g>\r\n     </g>\r\n    </g>\r\n    <g id=\"ytick_4\">\r\n     <g id=\"line2d_13\">\r\n      <g>\r\n       <use style=\"stroke:#000000;stroke-width:0.8;\" x=\"30.103125\" xlink:href=\"#m0a95947383\" y=\"140.598529\"/>\r\n      </g>\r\n     </g>\r\n     <g id=\"text_13\">\r\n      <!-- 0.6 -->\r\n      <g transform=\"translate(7.2 144.397747)scale(0.1 -0.1)\">\r\n       <use xlink:href=\"#DejaVuSans-48\"/>\r\n       <use x=\"63.623047\" xlink:href=\"#DejaVuSans-46\"/>\r\n       <use x=\"95.410156\" xlink:href=\"#DejaVuSans-54\"/>\r\n      </g>\r\n     </g>\r\n    </g>\r\n    <g id=\"ytick_5\">\r\n     <g id=\"line2d_14\">\r\n      <g>\r\n       <use style=\"stroke:#000000;stroke-width:0.8;\" x=\"30.103125\" xlink:href=\"#m0a95947383\" y=\"81.286523\"/>\r\n      </g>\r\n     </g>\r\n     <g id=\"text_14\">\r\n      <!-- 0.8 -->\r\n      <g transform=\"translate(7.2 85.085742)scale(0.1 -0.1)\">\r\n       <use xlink:href=\"#DejaVuSans-48\"/>\r\n       <use x=\"63.623047\" xlink:href=\"#DejaVuSans-46\"/>\r\n       <use x=\"95.410156\" xlink:href=\"#DejaVuSans-56\"/>\r\n      </g>\r\n     </g>\r\n    </g>\r\n    <g id=\"ytick_6\">\r\n     <g id=\"line2d_15\">\r\n      <g>\r\n       <use style=\"stroke:#000000;stroke-width:0.8;\" x=\"30.103125\" xlink:href=\"#m0a95947383\" y=\"21.974518\"/>\r\n      </g>\r\n     </g>\r\n     <g id=\"text_15\">\r\n      <!-- 1.0 -->\r\n      <g transform=\"translate(7.2 25.773736)scale(0.1 -0.1)\">\r\n       <use xlink:href=\"#DejaVuSans-49\"/>\r\n       <use x=\"63.623047\" xlink:href=\"#DejaVuSans-46\"/>\r\n       <use x=\"95.410156\" xlink:href=\"#DejaVuSans-48\"/>\r\n      </g>\r\n     </g>\r\n    </g>\r\n   </g>\r\n   <g id=\"line2d_16\">\r\n    <path clip-path=\"url(#pc054851e1e)\" d=\"M 30.103125 21.974518 \r\nL 588.103125 21.974518 \r\n\" style=\"fill:none;stroke:#1f77b4;stroke-linecap:square;stroke-opacity:0.1;stroke-width:1.5;\"/>\r\n   </g>\r\n   <g id=\"line2d_17\">\r\n    <path clip-path=\"url(#pc054851e1e)\" d=\"M 30.103125 318.534545 \r\nL 588.103125 318.534545 \r\n\" style=\"fill:none;stroke:#1f77b4;stroke-linecap:square;stroke-opacity:0.1;stroke-width:1.5;\"/>\r\n   </g>\r\n   <g id=\"patch_3\">\r\n    <path d=\"M 30.103125 333.36 \r\nL 30.103125 7.2 \r\n\" style=\"fill:none;stroke:#000000;stroke-linecap:square;stroke-linejoin:miter;stroke-width:0.8;\"/>\r\n   </g>\r\n   <g id=\"patch_4\">\r\n    <path d=\"M 588.103125 333.36 \r\nL 588.103125 7.2 \r\n\" style=\"fill:none;stroke:#000000;stroke-linecap:square;stroke-linejoin:miter;stroke-width:0.8;\"/>\r\n   </g>\r\n   <g id=\"patch_5\">\r\n    <path d=\"M 30.103125 333.36 \r\nL 588.103125 333.36 \r\n\" style=\"fill:none;stroke:#000000;stroke-linecap:square;stroke-linejoin:miter;stroke-width:0.8;\"/>\r\n   </g>\r\n   <g id=\"patch_6\">\r\n    <path d=\"M 30.103125 7.2 \r\nL 588.103125 7.2 \r\n\" style=\"fill:none;stroke:#000000;stroke-linecap:square;stroke-linejoin:miter;stroke-width:0.8;\"/>\r\n   </g>\r\n  </g>\r\n </g>\r\n <defs>\r\n  <clipPath id=\"pc054851e1e\">\r\n   <rect height=\"326.16\" width=\"558\" x=\"30.103125\" y=\"7.2\"/>\r\n  </clipPath>\r\n </defs>\r\n</svg>\r\n",
      "image/png": "[encoded data removed]"
     },
     "metadata": {
      "needs_background": "light"
     }
    }
   ]
  },
  {
   "source": [
    "In group of 23 people the probability of somebody having a birthday on the same date is greater than 0.5."
   ],
   "cell_type": "markdown",
   "metadata": {}
  },
  {
   "cell_type": "code",
   "execution_count": 4,
   "metadata": {},
   "outputs": [
    {
     "output_type": "execute_result",
     "data": {
      "text/plain": [
       "0.5004771540365807"
      ]
     },
     "metadata": {},
     "execution_count": 4
    }
   ],
   "source": [
    "Pn[22] # indexing from 0"
   ]
  },
  {
   "source": [
    "To get probability 0.9 we need a group of 41 people."
   ],
   "cell_type": "markdown",
   "metadata": {}
  },
  {
   "cell_type": "code",
   "execution_count": 5,
   "metadata": {},
   "outputs": [
    {
     "output_type": "execute_result",
     "data": {
      "text/plain": [
       "41"
      ]
     },
     "metadata": {},
     "execution_count": 5
    }
   ],
   "source": [
    "np.argmin(Pn < 0.9)"
   ]
  },
  {
   "source": [
    "## Summary\n",
    "\n",
    "In this article, we described a phonemonon called *Bithday paradox*, which describes surprisingly high probability of two people having birthday on the same day. The probability distribution for the group size is visualized.\n",
    "\n",
    "In a group of 23 people the probability is more than 0.5."
   ],
   "cell_type": "markdown",
   "metadata": {}
  },
  {
   "source": [
    "## References\n",
    "\n",
    "- Better Explained: Understanding the Birthday Paradox. <a href=\"https://betterexplained.com/articles/understanding-the-birthday-paradox/\">https://betterexplained.com/</a>.\n",
    "- Marek Valášek: Jak nás klame intuice 1. <a href=\"https://www.youtube.com/watch?v=cuBbmeLwZGg\">https://www.youtube.com/</a>\n",
    "- Andrea Giancoli: Have a Fun and Healthful Birthday Party. <a href=\"https://www.eatright.org/health/lifestyle/holidays/have-a-fun-and-healthier-birthday-party\">https://www.eatright.org/</a>"
   ],
   "cell_type": "markdown",
   "metadata": {}
  }
 ]
}